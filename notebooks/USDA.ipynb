{
 "cells": [
  {
   "cell_type": "code",
   "execution_count": 2,
   "id": "429a05f1",
   "metadata": {},
   "outputs": [],
   "source": [
    "import requests\n",
    "import pandas as pd\n"
   ]
  },
  {
   "cell_type": "code",
   "execution_count": 3,
   "id": "2548ee64",
   "metadata": {},
   "outputs": [],
   "source": [
    "API_KEY = 'enjdK0BmrJmmdtDk8hm27eoUXv1lm9TfvDclcgW1'  # Replace with your actual API key"
   ]
  },
  {
   "cell_type": "code",
   "execution_count": 4,
   "id": "1688b993",
   "metadata": {},
   "outputs": [],
   "source": [
    "def search_food(query, page_size=5):\n",
    "    \"\"\"\n",
    "    Search for food items matching the query.\n",
    "    \"\"\"\n",
    "    url = 'https://api.nal.usda.gov/fdc/v1/foods/search'\n",
    "    params = {\n",
    "        'api_key': API_KEY,\n",
    "        'query': query,\n",
    "        'pageSize': page_size\n",
    "    }\n",
    "    response = requests.get(url, params=params)\n",
    "    if response.status_code != 200:\n",
    "        raise Exception(f\"API request failed with status code {response.status_code}\")\n",
    "    return response.json()\n"
   ]
  },
  {
   "cell_type": "code",
   "execution_count": 5,
   "id": "e9c36d49",
   "metadata": {},
   "outputs": [],
   "source": [
    "def get_food_details(fdc_id):\n",
    "    \"\"\"\n",
    "    Retrieve detailed information for a specific food item by FDC ID.\n",
    "    \"\"\"\n",
    "    url = f'https://api.nal.usda.gov/fdc/v1/food/{fdc_id}'\n",
    "    params = {'api_key': API_KEY}\n",
    "    response = requests.get(url, params=params)\n",
    "    if response.status_code != 200:\n",
    "        raise Exception(f\"API request failed with status code {response.status_code}\")\n",
    "    return response.json()\n"
   ]
  },
  {
   "cell_type": "code",
   "execution_count": 6,
   "id": "6fad48fb",
   "metadata": {},
   "outputs": [],
   "source": [
    "def extract_nutrients(food_data):\n",
    "    \"\"\"\n",
    "    Extract nutrient information from food data.\n",
    "    \"\"\"\n",
    "    nutrients = food_data.get('foodNutrients', [])\n",
    "    data = []\n",
    "    for nutrient in nutrients:\n",
    "        name = nutrient.get('nutrient', {}).get('name')\n",
    "        amount = nutrient.get('amount')\n",
    "        unit = nutrient.get('nutrient', {}).get('unitName')\n",
    "        if name and amount is not None:\n",
    "            data.append({'Nutrient': name, 'Amount': amount, 'Unit': unit})\n",
    "    df = pd.DataFrame(data)\n",
    "    return df\n"
   ]
  },
  {
   "cell_type": "code",
   "execution_count": 8,
   "id": "62573808",
   "metadata": {},
   "outputs": [
    {
     "name": "stdout",
     "output_type": "stream",
     "text": [
      "1. Noodles, cooked (FDC ID: 2708352)\n",
      "2. Adobo, with noodles (FDC ID: 2708809)\n",
      "3. Noodle pudding (FDC ID: 2708949)\n",
      "4. Noodles, chow mein (FDC ID: 2708354)\n",
      "5. Beef and noodles, no sauce (FDC ID: 2706480)\n",
      "{'foodClass': 'Survey', 'description': 'Noodles, cooked', 'foodNutrients': [{'type': 'FoodNutrient', 'id': 34329079, 'nutrient': {'id': 1003, 'number': '203', 'name': 'Protein', 'rank': 600, 'unitName': 'g'}, 'amount': 4.51}, {'type': 'FoodNutrient', 'id': 34329080, 'nutrient': {'id': 1004, 'number': '204', 'name': 'Total lipid (fat)', 'rank': 800, 'unitName': 'g'}, 'amount': 2.06}, {'type': 'FoodNutrient', 'id': 34329081, 'nutrient': {'id': 1005, 'number': '205', 'name': 'Carbohydrate, by difference', 'rank': 1110, 'unitName': 'g'}, 'amount': 25.0}, {'type': 'FoodNutrient', 'id': 34329082, 'nutrient': {'id': 1008, 'number': '208', 'name': 'Energy', 'rank': 300, 'unitName': 'kcal'}, 'amount': 137}, {'type': 'FoodNutrient', 'id': 34329083, 'nutrient': {'id': 1018, 'number': '221', 'name': 'Alcohol, ethyl', 'rank': 18200, 'unitName': 'g'}, 'amount': 0.0}, {'type': 'FoodNutrient', 'id': 34329084, 'nutrient': {'id': 1051, 'number': '255', 'name': 'Water', 'rank': 100, 'unitName': 'g'}, 'amount': 67.3}, {'type': 'FoodNutrient', 'id': 34329085, 'nutrient': {'id': 1057, 'number': '262', 'name': 'Caffeine', 'rank': 18300, 'unitName': 'mg'}, 'amount': 0.0}, {'type': 'FoodNutrient', 'id': 34329086, 'nutrient': {'id': 1058, 'number': '263', 'name': 'Theobromine', 'rank': 18400, 'unitName': 'mg'}, 'amount': 0.0}, {'type': 'FoodNutrient', 'id': 34329087, 'nutrient': {'id': 2000, 'number': '269', 'name': 'Total Sugars', 'rank': 1510, 'unitName': 'g'}, 'amount': 0.4}, {'type': 'FoodNutrient', 'id': 34329088, 'nutrient': {'id': 1079, 'number': '291', 'name': 'Fiber, total dietary', 'rank': 1200, 'unitName': 'g'}, 'amount': 1.2}, {'type': 'FoodNutrient', 'id': 34329089, 'nutrient': {'id': 1087, 'number': '301', 'name': 'Calcium, Ca', 'rank': 5300, 'unitName': 'mg'}, 'amount': 12.0}, {'type': 'FoodNutrient', 'id': 34329090, 'nutrient': {'id': 1089, 'number': '303', 'name': 'Iron, Fe', 'rank': 5400, 'unitName': 'mg'}, 'amount': 1.46}, {'type': 'FoodNutrient', 'id': 34329091, 'nutrient': {'id': 1090, 'number': '304', 'name': 'Magnesium, Mg', 'rank': 5500, 'unitName': 'mg'}, 'amount': 21.0}, {'type': 'FoodNutrient', 'id': 34329092, 'nutrient': {'id': 1091, 'number': '305', 'name': 'Phosphorus, P', 'rank': 5600, 'unitName': 'mg'}, 'amount': 76.0}, {'type': 'FoodNutrient', 'id': 34329093, 'nutrient': {'id': 1092, 'number': '306', 'name': 'Potassium, K', 'rank': 5700, 'unitName': 'mg'}, 'amount': 38.0}, {'type': 'FoodNutrient', 'id': 34329094, 'nutrient': {'id': 1093, 'number': '307', 'name': 'Sodium, Na', 'rank': 5800, 'unitName': 'mg'}, 'amount': 236}, {'type': 'FoodNutrient', 'id': 34329095, 'nutrient': {'id': 1095, 'number': '309', 'name': 'Zinc, Zn', 'rank': 5900, 'unitName': 'mg'}, 'amount': 0.65}, {'type': 'FoodNutrient', 'id': 34329096, 'nutrient': {'id': 1098, 'number': '312', 'name': 'Copper, Cu', 'rank': 6000, 'unitName': 'mg'}, 'amount': 0.097}, {'type': 'FoodNutrient', 'id': 34329097, 'nutrient': {'id': 1103, 'number': '317', 'name': 'Selenium, Se', 'rank': 6200, 'unitName': 'µg'}, 'amount': 23.8}, {'type': 'FoodNutrient', 'id': 34329098, 'nutrient': {'id': 1105, 'number': '319', 'name': 'Retinol', 'rank': 7430, 'unitName': 'µg'}, 'amount': 6.0}, {'type': 'FoodNutrient', 'id': 34329099, 'nutrient': {'id': 1106, 'number': '320', 'name': 'Vitamin A, RAE', 'rank': 7420, 'unitName': 'µg'}, 'amount': 6.0}, {'type': 'FoodNutrient', 'id': 34329100, 'nutrient': {'id': 1107, 'number': '321', 'name': 'Carotene, beta', 'rank': 7440, 'unitName': 'µg'}, 'amount': 1.0}, {'type': 'FoodNutrient', 'id': 34329101, 'nutrient': {'id': 1108, 'number': '322', 'name': 'Carotene, alpha', 'rank': 7450, 'unitName': 'µg'}, 'amount': 0.0}, {'type': 'FoodNutrient', 'id': 34329102, 'nutrient': {'id': 1109, 'number': '323', 'name': 'Vitamin E (alpha-tocopherol)', 'rank': 7905, 'unitName': 'mg'}, 'amount': 0.17}, {'type': 'FoodNutrient', 'id': 34329103, 'nutrient': {'id': 1114, 'number': '328', 'name': 'Vitamin D (D2 + D3)', 'rank': 8700, 'unitName': 'µg'}, 'amount': 0.1}, {'type': 'FoodNutrient', 'id': 34329104, 'nutrient': {'id': 1120, 'number': '334', 'name': 'Cryptoxanthin, beta', 'rank': 7460, 'unitName': 'µg'}, 'amount': 0.0}, {'type': 'FoodNutrient', 'id': 34329105, 'nutrient': {'id': 1122, 'number': '337', 'name': 'Lycopene', 'rank': 7530, 'unitName': 'µg'}, 'amount': 0.0}, {'type': 'FoodNutrient', 'id': 34329106, 'nutrient': {'id': 1123, 'number': '338', 'name': 'Lutein + zeaxanthin', 'rank': 7560, 'unitName': 'µg'}, 'amount': 38.0}, {'type': 'FoodNutrient', 'id': 34329107, 'nutrient': {'id': 1162, 'number': '401', 'name': 'Vitamin C, total ascorbic acid', 'rank': 6300, 'unitName': 'mg'}, 'amount': 0.0}, {'type': 'FoodNutrient', 'id': 34329108, 'nutrient': {'id': 1165, 'number': '404', 'name': 'Thiamin', 'rank': 6400, 'unitName': 'mg'}, 'amount': 0.287}, {'type': 'FoodNutrient', 'id': 34329109, 'nutrient': {'id': 1166, 'number': '405', 'name': 'Riboflavin', 'rank': 6500, 'unitName': 'mg'}, 'amount': 0.135}, {'type': 'FoodNutrient', 'id': 34329110, 'nutrient': {'id': 1167, 'number': '406', 'name': 'Niacin', 'rank': 6600, 'unitName': 'mg'}, 'amount': 2.06}, {'type': 'FoodNutrient', 'id': 34329111, 'nutrient': {'id': 1175, 'number': '415', 'name': 'Vitamin B-6', 'rank': 6800, 'unitName': 'mg'}, 'amount': 0.046}, {'type': 'FoodNutrient', 'id': 34329112, 'nutrient': {'id': 1177, 'number': '417', 'name': 'Folate, total', 'rank': 6900, 'unitName': 'µg'}, 'amount': 83.0}, {'type': 'FoodNutrient', 'id': 34329113, 'nutrient': {'id': 1178, 'number': '418', 'name': 'Vitamin B-12', 'rank': 7300, 'unitName': 'µg'}, 'amount': 0.09}, {'type': 'FoodNutrient', 'id': 34329114, 'nutrient': {'id': 1180, 'number': '421', 'name': 'Choline, total', 'rank': 7220, 'unitName': 'mg'}, 'amount': 25.5}, {'type': 'FoodNutrient', 'id': 34329115, 'nutrient': {'id': 1185, 'number': '430', 'name': 'Vitamin K (phylloquinone)', 'rank': 8800, 'unitName': 'µg'}, 'amount': 0.0}, {'type': 'FoodNutrient', 'id': 34329116, 'nutrient': {'id': 1186, 'number': '431', 'name': 'Folic acid', 'rank': 7000, 'unitName': 'µg'}, 'amount': 77.0}, {'type': 'FoodNutrient', 'id': 34329117, 'nutrient': {'id': 1187, 'number': '432', 'name': 'Folate, food', 'rank': 7100, 'unitName': 'µg'}, 'amount': 7.0}, {'type': 'FoodNutrient', 'id': 34329118, 'nutrient': {'id': 1190, 'number': '435', 'name': 'Folate, DFE', 'rank': 7200, 'unitName': 'µg'}, 'amount': 137}, {'type': 'FoodNutrient', 'id': 34329119, 'nutrient': {'id': 1242, 'number': '573', 'name': 'Vitamin E, added', 'rank': 7920, 'unitName': 'mg'}, 'amount': 0.0}, {'type': 'FoodNutrient', 'id': 34329120, 'nutrient': {'id': 1246, 'number': '578', 'name': 'Vitamin B-12, added', 'rank': 7340, 'unitName': 'µg'}, 'amount': 0.0}, {'type': 'FoodNutrient', 'id': 34329121, 'nutrient': {'id': 1253, 'number': '601', 'name': 'Cholesterol', 'rank': 15700, 'unitName': 'mg'}, 'amount': 29.0}, {'type': 'FoodNutrient', 'id': 34329122, 'nutrient': {'id': 1258, 'number': '606', 'name': 'Fatty acids, total saturated', 'rank': 9700, 'unitName': 'g'}, 'amount': 0.417}, {'type': 'FoodNutrient', 'id': 34329123, 'nutrient': {'id': 1259, 'number': '607', 'name': 'SFA 4:0', 'rank': 9800, 'unitName': 'g'}, 'amount': 0.0}, {'type': 'FoodNutrient', 'id': 34329124, 'nutrient': {'id': 1260, 'number': '608', 'name': 'SFA 6:0', 'rank': 9900, 'unitName': 'g'}, 'amount': 0.0}, {'type': 'FoodNutrient', 'id': 34329125, 'nutrient': {'id': 1261, 'number': '609', 'name': 'SFA 8:0', 'rank': 10000, 'unitName': 'g'}, 'amount': 0.0}, {'type': 'FoodNutrient', 'id': 34329126, 'nutrient': {'id': 1262, 'number': '610', 'name': 'SFA 10:0', 'rank': 10100, 'unitName': 'g'}, 'amount': 0.0}, {'type': 'FoodNutrient', 'id': 34329127, 'nutrient': {'id': 1263, 'number': '611', 'name': 'SFA 12:0', 'rank': 10300, 'unitName': 'g'}, 'amount': 0.0}, {'type': 'FoodNutrient', 'id': 34329128, 'nutrient': {'id': 1264, 'number': '612', 'name': 'SFA 14:0', 'rank': 10500, 'unitName': 'g'}, 'amount': 0.005}, {'type': 'FoodNutrient', 'id': 34329129, 'nutrient': {'id': 1265, 'number': '613', 'name': 'SFA 16:0', 'rank': 10700, 'unitName': 'g'}, 'amount': 0.339}, {'type': 'FoodNutrient', 'id': 34329130, 'nutrient': {'id': 1266, 'number': '614', 'name': 'SFA 18:0', 'rank': 10900, 'unitName': 'g'}, 'amount': 0.073}, {'type': 'FoodNutrient', 'id': 34329131, 'nutrient': {'id': 1268, 'number': '617', 'name': 'MUFA 18:1', 'rank': 12100, 'unitName': 'g'}, 'amount': 0.534}, {'type': 'FoodNutrient', 'id': 34329132, 'nutrient': {'id': 1269, 'number': '618', 'name': 'PUFA 18:2', 'rank': 13100, 'unitName': 'g'}, 'amount': 0.519}, {'type': 'FoodNutrient', 'id': 34329133, 'nutrient': {'id': 1270, 'number': '619', 'name': 'PUFA 18:3', 'rank': 13900, 'unitName': 'g'}, 'amount': 0.028}, {'type': 'FoodNutrient', 'id': 34329134, 'nutrient': {'id': 1271, 'number': '620', 'name': 'PUFA 20:4', 'rank': 14700, 'unitName': 'g'}, 'amount': 0.001}, {'type': 'FoodNutrient', 'id': 34329135, 'nutrient': {'id': 1272, 'number': '621', 'name': 'PUFA 22:6 n-3 (DHA)', 'rank': 15300, 'unitName': 'g'}, 'amount': 0.0}, {'type': 'FoodNutrient', 'id': 34329136, 'nutrient': {'id': 1275, 'number': '626', 'name': 'MUFA 16:1', 'rank': 11700, 'unitName': 'g'}, 'amount': 0.045}, {'type': 'FoodNutrient', 'id': 34329137, 'nutrient': {'id': 1276, 'number': '627', 'name': 'PUFA 18:4', 'rank': 14250, 'unitName': 'g'}, 'amount': 0.0}, {'type': 'FoodNutrient', 'id': 34329138, 'nutrient': {'id': 1277, 'number': '628', 'name': 'MUFA 20:1', 'rank': 12400, 'unitName': 'g'}, 'amount': 0.0}, {'type': 'FoodNutrient', 'id': 34329139, 'nutrient': {'id': 1278, 'number': '629', 'name': 'PUFA 20:5 n-3 (EPA)', 'rank': 15000, 'unitName': 'g'}, 'amount': 0.0}, {'type': 'FoodNutrient', 'id': 34329140, 'nutrient': {'id': 1279, 'number': '630', 'name': 'MUFA 22:1', 'rank': 12500, 'unitName': 'g'}, 'amount': 0.0}, {'type': 'FoodNutrient', 'id': 34329141, 'nutrient': {'id': 1280, 'number': '631', 'name': 'PUFA 22:5 n-3 (DPA)', 'rank': 15200, 'unitName': 'g'}, 'amount': 0.0}, {'type': 'FoodNutrient', 'id': 34329142, 'nutrient': {'id': 1292, 'number': '645', 'name': 'Fatty acids, total monounsaturated', 'rank': 11400, 'unitName': 'g'}, 'amount': 0.578}, {'type': 'FoodNutrient', 'id': 34329143, 'nutrient': {'id': 1293, 'number': '646', 'name': 'Fatty acids, total polyunsaturated', 'rank': 12900, 'unitName': 'g'}, 'amount': 0.549}], 'foodAttributes': [{'id': 3314067, 'value': 'NS as to grain type', 'foodAttributeType': {'id': 1001, 'name': 'Additional Description', 'description': 'Additional descriptions for the food.'}, 'rank': 3}, {'id': 3314066, 'value': 'egg noodles', 'foodAttributeType': {'id': 1001, 'name': 'Additional Description', 'description': 'Additional descriptions for the food.'}, 'rank': 2}, {'id': 3314065, 'value': 'pastina', 'foodAttributeType': {'id': 1001, 'name': 'Additional Description', 'description': 'Additional descriptions for the food.'}, 'rank': 1}, {'id': 3321792, 'value': 'Moisture change: 0%', 'foodAttributeType': {'id': 1002, 'name': 'Adjustments', 'description': 'Adjustments made to foods, including moisture changes'}}, {'id': 3304252, 'name': 'WWEIA Category description', 'value': 'Pasta, noodles, cooked grains', 'foodAttributeType': {'id': 999, 'name': 'Attribute', 'description': 'Generic attributes'}}, {'id': 3304251, 'name': 'WWEIA Category number', 'value': '4004', 'foodAttributeType': {'id': 999, 'name': 'Attribute', 'description': 'Generic attributes'}}], 'foodCode': '56112000', 'startDate': '1/1/2021', 'endDate': '12/31/2023', 'wweiaFoodCategory': {'wweiaFoodCategoryDescription': 'Pasta, noodles, cooked grains', 'wweiaFoodCategoryCode': 3304252}, 'dataType': 'Survey (FNDDS)', 'fdcId': 2708352, 'foodPortions': [{'id': 302658, 'measureUnit': {'id': 9999, 'name': 'undetermined', 'abbreviation': 'undetermined'}, 'modifier': '40049', 'gramWeight': 75, 'portionDescription': '1 oz, dry, yields', 'sequenceNumber': 2}, {'id': 302657, 'measureUnit': {'id': 9999, 'name': 'undetermined', 'abbreviation': 'undetermined'}, 'modifier': '10043', 'gramWeight': 160, 'portionDescription': '1 cup, cooked', 'sequenceNumber': 1}, {'id': 302659, 'measureUnit': {'id': 9999, 'name': 'undetermined', 'abbreviation': 'undetermined'}, 'modifier': '90000', 'gramWeight': 160, 'portionDescription': 'Quantity not specified', 'sequenceNumber': 4}], 'publicationDate': '10/31/2024', 'inputFoods': [{'id': 134570, 'unit': 'GM', 'portionDescription': 'NONE', 'portionCode': '0', 'foodDescription': 'Noodles, egg, enriched, cooked', 'retentionCode': 0, 'ingredientWeight': 100, 'ingredientCode': 20110, 'ingredientDescription': 'Noodles, egg, enriched, cooked', 'amount': 100, 'sequenceNumber': 1}, {'id': 134571, 'unit': 'GM', 'portionDescription': 'NONE', 'portionCode': '0', 'foodDescription': 'Salt, table', 'retentionCode': 0, 'ingredientWeight': 0.6, 'ingredientCode': 2047, 'ingredientDescription': 'Salt, table', 'amount': 0.6, 'sequenceNumber': 2}]}\n",
      "                              Nutrient   Amount  Unit\n",
      "0                              Protein    4.510     g\n",
      "1                    Total lipid (fat)    2.060     g\n",
      "2          Carbohydrate, by difference   25.000     g\n",
      "3                               Energy  137.000  kcal\n",
      "4                       Alcohol, ethyl    0.000     g\n",
      "..                                 ...      ...   ...\n",
      "60                 PUFA 20:5 n-3 (EPA)    0.000     g\n",
      "61                           MUFA 22:1    0.000     g\n",
      "62                 PUFA 22:5 n-3 (DPA)    0.000     g\n",
      "63  Fatty acids, total monounsaturated    0.578     g\n",
      "64  Fatty acids, total polyunsaturated    0.549     g\n",
      "\n",
      "[65 rows x 3 columns]\n"
     ]
    }
   ],
   "source": [
    "# Search for a food item\n",
    "query = 'maggi noodles'\n",
    "search_results = search_food(query)\n",
    "\n",
    "# Display search results\n",
    "for idx, food in enumerate(search_results.get('foods', []), start=1):\n",
    "    description = food.get('description', 'No description')\n",
    "    fdc_id = food.get('fdcId', 'No FDC ID')\n",
    "    print(f\"{idx}. {description} (FDC ID: {fdc_id})\")\n",
    "\n",
    "# Select the first result for demonstration\n",
    "selected_food = search_results['foods'][0]\n",
    "fdc_id = selected_food['fdcId']\n",
    "\n",
    "# Retrieve detailed nutrient information\n",
    "food_details = get_food_details(fdc_id)\n",
    "print(food_details)\n",
    "# Extract and display nutrients\n",
    "nutrient_df = extract_nutrients(food_details)\n",
    "print(nutrient_df)\n"
   ]
  },
  {
   "cell_type": "code",
   "execution_count": 1,
   "id": "070ce75d",
   "metadata": {},
   "outputs": [
    {
     "ename": "",
     "evalue": "",
     "output_type": "error",
     "traceback": [
      "\u001b[1;31mThe Kernel crashed while executing code in the current cell or a previous cell. \n",
      "\u001b[1;31mPlease review the code in the cell(s) to identify a possible cause of the failure. \n",
      "\u001b[1;31mClick <a href='https://aka.ms/vscodeJupyterKernelCrash'>here</a> for more info. \n",
      "\u001b[1;31mView Jupyter <a href='command:jupyter.viewOutput'>log</a> for further details."
     ]
    }
   ],
   "source": [
    "import json\n",
    "\n",
    "# Load the uploaded JSON data\n",
    "with open('../data/FoodData_Central_branded_food_json_2025-04-24.json', 'r') as file:\n",
    "    data = json.load(file)\n",
    "\n",
    "# Function to search for nutrition values based on food description\n",
    "def get_nutrition_for_meal(meal_name):\n",
    "    # Normalize the meal name to lowercase for case-insensitive comparison\n",
    "    meal_name = meal_name.lower()\n",
    "    \n",
    "    # Iterate through all foods in the dataset\n",
    "    for food in data['FoundationFoods']:\n",
    "        # Compare description with the given meal name\n",
    "        if meal_name in food['description'].lower():\n",
    "            # If match is found, extract relevant nutritional information\n",
    "            nutrition_info = []\n",
    "            serving_size = None\n",
    "\n",
    "            # Extract serving size if available\n",
    "            if food.get('foodPortions'):\n",
    "                serving_size = food['foodPortions'][0].get('value', 'N/A')\n",
    "                serving_unit = food['foodPortions'][0].get('measureUnit', {}).get('abbreviation', '')\n",
    "                serving_size = f\"{serving_size} {serving_unit}\" if serving_size != 'N/A' else 'N/A'\n",
    "\n",
    "            # Add nutrients data\n",
    "            for nutrient in food['foodNutrients']:\n",
    "                nutrient_data = {\n",
    "                    \"name\": nutrient['nutrient']['name'],\n",
    "                    \"amount\": nutrient['amount'],\n",
    "                    \"unit\": nutrient['nutrient']['unitName']\n",
    "                }\n",
    "                nutrition_info.append(nutrient_data)\n",
    "            \n",
    "            return nutrition_info, serving_size\n",
    "    \n",
    "    # Return a message if no matching meal is found\n",
    "    return f\"No nutritional information found for '{meal_name}'.\", None\n",
    "\n",
    "# Example: Get nutrition for \"Butter Chicken\"\n",
    "meal_name = \"Butter Chicken\"\n",
    "nutrition_values, serving_size = get_nutrition_for_meal(meal_name)\n",
    "\n",
    "# Check if the result is a list of nutrients or an error message\n",
    "if isinstance(nutrition_values, list):\n",
    "    # Print the serving size\n",
    "    print(f\"Serving Size: {serving_size}\")\n",
    "    \n",
    "    # Display the nutritional information\n",
    "    for nutrient in nutrition_values:\n",
    "        print(f\"{nutrient['name']}: {nutrient['amount']} {nutrient['unit']}\")\n",
    "else:\n",
    "    # If no match was found, print the error message\n",
    "    print(nutrition_values)\n"
   ]
  },
  {
   "cell_type": "code",
   "execution_count": null,
   "id": "1b783c16",
   "metadata": {},
   "outputs": [],
   "source": []
  }
 ],
 "metadata": {
  "kernelspec": {
   "display_name": "hobbes",
   "language": "python",
   "name": "python3"
  },
  "language_info": {
   "codemirror_mode": {
    "name": "ipython",
    "version": 3
   },
   "file_extension": ".py",
   "mimetype": "text/x-python",
   "name": "python",
   "nbconvert_exporter": "python",
   "pygments_lexer": "ipython3",
   "version": "3.10.16"
  }
 },
 "nbformat": 4,
 "nbformat_minor": 5
}
