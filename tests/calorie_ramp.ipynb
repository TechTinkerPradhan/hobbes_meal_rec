{
 "cells": [
  {
   "cell_type": "code",
   "execution_count": 12,
   "id": "e1dadb12",
   "metadata": {},
   "outputs": [],
   "source": [
    "import os, re, json, numpy as np, pandas as pd\n",
    "from datetime import datetime, timedelta\n",
    "from pathlib import Path\n",
    "from sentence_transformers import SentenceTransformer\n",
    "from sklearn.metrics.pairwise import cosine_similarity\n",
    "from sklearn.metrics import mean_squared_error\n",
    "from google import genai\n",
    "from google.genai import types\n"
   ]
  },
  {
   "cell_type": "code",
   "execution_count": 3,
   "id": "7238ed51",
   "metadata": {},
   "outputs": [
    {
     "name": "stdout",
     "output_type": "stream",
     "text": [
      "Loaded 10 users, 264 meal rows\n"
     ]
    }
   ],
   "source": [
    "ROOT_DIR  = Path.cwd().parent\n",
    "DATA_DIR  = ROOT_DIR / \"data\" / \"test data\"    # adjust if \"test\" not \"test_data\"\n",
    "\n",
    "USERS_CSV = DATA_DIR / \"ten_users_gpt-4o.csv\"\n",
    "MEALS_CSV = DATA_DIR / \"test_meal_logs.csv\"\n",
    "\n",
    "users_df  = pd.read_csv(USERS_CSV)\n",
    "logs_df   = pd.read_csv(MEALS_CSV)\n",
    "logs_df[\"timestamp\"] = pd.to_datetime(logs_df[\"timestamp\"])\n",
    "\n",
    "print(f\"Loaded {len(users_df)} users, {len(logs_df)} meal rows\")\n"
   ]
  },
  {
   "cell_type": "code",
   "execution_count": null,
   "id": "bc8f34a9",
   "metadata": {},
   "outputs": [],
   "source": [
    "# ▢ Patch — run once, then rerun downstream cells\n",
    "from dotenv import load_dotenv\n",
    "load_dotenv(\"../.env\", override=True)\n",
    "\n",
    "GEMINI_API_KEY = os.getenv(\"GEMINI_API_KEY\")\n",
    "client = genai.Client(api_key=GEMINI_API_KEY) \n",
    "\n",
    "EMBED_MODEL = \"models/gemini-embedding-exp-03-07\"\n",
    "\n",
    "\n",
    "def gemini_embed(text: str) -> np.ndarray:\n",
    "    \"\"\"\n",
    "    Return a 768‑d embedding vector from Gemini embedding‑exp‑03‑07.\n",
    "    \"\"\"\n",
    "    res = client.models.embed_content( #client.models.batch_embed_contents(...) (if you embed many meal titles)\n",
    "        model=EMBED_MODEL,\n",
    "        contents=text,\n",
    "        config=types.EmbedContentConfig(task_type=\"SEMANTIC_SIMILARITY\")\n",
    "    )\n",
    "    return np.array(res[\"embedding\"][\"values\"], dtype=np.float32)\n",
    "\n"
   ]
  },
  {
   "cell_type": "code",
   "execution_count": 5,
   "id": "c9dcfa30",
   "metadata": {},
   "outputs": [],
   "source": [
    "LOOKBACK = 7\n",
    "def history_summary(uid):\n",
    "    cutoff = datetime.now() - timedelta(days=LOOKBACK)\n",
    "    recent = logs_df[(logs_df.user_id==uid) & (logs_df.timestamp>=cutoff)]\n",
    "    titles = recent.meal_name.tolist() or [\"\"]\n",
    "    vecs   = np.vstack([gemini_embed(t) for t in titles])\n",
    "    flavor_vec = vecs.mean(axis=0)\n",
    "\n",
    "    daily  = recent.groupby(recent.timestamp.dt.date)[[\"kcal\",\"protein_g\",\"carbs_g\",\"fat_g\"]].sum()\n",
    "    macros = daily.mean().to_dict() if not daily.empty else {\"kcal\":0,\"protein_g\":0,\"carbs_g\":0,\"fat_g\":0}\n",
    "    return {\"flavor_vec\": flavor_vec, \"macro_7d\": macros}\n"
   ]
  },
  {
   "cell_type": "code",
   "execution_count": 6,
   "id": "e8be398a",
   "metadata": {},
   "outputs": [],
   "source": [
    "def ramp_targets(hist_macros, true_targets, pct=0.15):\n",
    "    ramp = true_targets.copy()\n",
    "    cur  = hist_macros.get(\"kcal\", 0)\n",
    "    goal = true_targets[\"optimal_calories\"]\n",
    "    step = abs(cur) * pct\n",
    "    diff = goal - cur\n",
    "    if abs(diff) > step:\n",
    "        ramp_kcal = cur + step * np.sign(diff)\n",
    "    else:\n",
    "        ramp_kcal = goal\n",
    "    ramp[\"optimal_calories\"] = ramp_kcal\n",
    "    ratio = ramp_kcal / goal\n",
    "    for m in (\"protein_g\",\"carbs_g\",\"fat_g\"):\n",
    "        ramp[m] = true_targets[m] * ratio\n",
    "    return ramp\n"
   ]
  },
  {
   "cell_type": "code",
   "execution_count": 7,
   "id": "c0618b82",
   "metadata": {},
   "outputs": [],
   "source": [
    "PLANNER_SCHEMA = {\n",
    "  \"intent\": {},\n",
    "  \"meals\": [\n",
    "    {\"label\":\"string\",\"name\":\"string\",\n",
    "     \"macros\":{\"calories\":\"integer\",\"protein_g\":\"number\",\n",
    "               \"carbs_g\":\"number\",\"fat_g\":\"number\"}}\n",
    "  ]\n",
    "}\n",
    "\n",
    "def gemini_json(schema, payload, temperature=0.3, max_tokens=700,\n",
    "                system_text=\"\"):\n",
    "    prompt = (system_text +\n",
    "              \"Respond ONLY with JSON matching this schema:\\n\" +\n",
    "              json.dumps(schema, indent=2) +\n",
    "              \"\\n\\n### INPUT\\n\" + json.dumps(payload))\n",
    "    txt   = client.models.generate_content(\n",
    "        model=\"models/gemini-2.0-flash-lite\",\n",
    "        contents=[{\"role\":\"user\",\"parts\":[{\"text\":prompt}]}],\n",
    "        config=genai.types.GenerateContentConfig(\n",
    "            temperature=temperature, max_output_tokens=max_tokens)\n",
    "    ).candidates[0].content.parts[0].text\n",
    "    return json.loads(re.search(r\"\\{.*\\}\", txt, re.S).group())\n",
    "\n",
    "def build_plan(profile, targets, history, alpha_taste=0.5, temperature=0.45):\n",
    "    sys = (f\"Weight flavour {alpha_taste:.2f} and macro {1-alpha_taste:.2f}.\\n\"\n",
    "           f\"Today's kcal target {targets['optimal_calories']:.0f}. \")\n",
    "    return gemini_json(PLANNER_SCHEMA,\n",
    "                       {\"profile\":profile,\"targets\":targets,\"history\":history},\n",
    "                       temperature=temperature,\n",
    "                       max_tokens=800,\n",
    "                       system_text=sys)\n"
   ]
  },
  {
   "cell_type": "code",
   "execution_count": 8,
   "id": "bf849f9c",
   "metadata": {},
   "outputs": [],
   "source": [
    "def macro_score(df, targets):\n",
    "    tot  = df[[\"kcal\",\"protein_g\",\"carbs_g\",\"fat_g\"]].sum().values\n",
    "    targ = np.array([targets[\"optimal_calories\"],\n",
    "                     targets[\"protein_g\"],\n",
    "                     targets[\"carbs_g\"],\n",
    "                     targets[\"fat_g\"]])\n",
    "    rmse = np.sqrt(mean_squared_error(targ, tot))\n",
    "    return max(0, 1 - rmse / targ[0])\n",
    "\n",
    "def taste_score(df, flavor_vec):\n",
    "    vec = gemini_embed(\" \".join(df.title))\n",
    "    return cosine_similarity([vec],[flavor_vec])[0,0]\n",
    "\n",
    "def day_scores(df, flavor_vec, targets, beta_macro=0.6):\n",
    "    macro = macro_score(df, targets)\n",
    "    taste = taste_score(df, flavor_vec)\n",
    "    return beta_macro*macro + (1-beta_macro)*taste, macro, taste\n"
   ]
  },
  {
   "cell_type": "code",
   "execution_count": 17,
   "id": "74cf0045",
   "metadata": {},
   "outputs": [
    {
     "ename": "TypeError",
     "evalue": "Models.embed_content() got an unexpected keyword argument 'task_type'",
     "output_type": "error",
     "traceback": [
      "\u001b[0;31m---------------------------------------------------------------------------\u001b[0m",
      "\u001b[0;31mTypeError\u001b[0m                                 Traceback (most recent call last)",
      "Cell \u001b[0;32mIn[17], line 10\u001b[0m\n\u001b[1;32m      8\u001b[0m \u001b[38;5;28;01mfor\u001b[39;00m _, u \u001b[38;5;129;01min\u001b[39;00m users_df\u001b[38;5;241m.\u001b[39miterrows():\n\u001b[1;32m      9\u001b[0m     uid \u001b[38;5;241m=\u001b[39m u\u001b[38;5;241m.\u001b[39muser_id\n\u001b[0;32m---> 10\u001b[0m     hist \u001b[38;5;241m=\u001b[39m \u001b[43mhistory_summary\u001b[49m\u001b[43m(\u001b[49m\u001b[43muid\u001b[49m\u001b[43m)\u001b[49m\n\u001b[1;32m     11\u001b[0m     true_targ \u001b[38;5;241m=\u001b[39m {\u001b[38;5;124m\"\u001b[39m\u001b[38;5;124moptimal_calories\u001b[39m\u001b[38;5;124m\"\u001b[39m:u\u001b[38;5;241m.\u001b[39moptimal_calories,\u001b[38;5;124m\"\u001b[39m\u001b[38;5;124mprotein_g\u001b[39m\u001b[38;5;124m\"\u001b[39m:u\u001b[38;5;241m.\u001b[39mprotein_g,\n\u001b[1;32m     12\u001b[0m                  \u001b[38;5;124m\"\u001b[39m\u001b[38;5;124mcarbs_g\u001b[39m\u001b[38;5;124m\"\u001b[39m:u\u001b[38;5;241m.\u001b[39mcarbs_g,\u001b[38;5;124m\"\u001b[39m\u001b[38;5;124mfat_g\u001b[39m\u001b[38;5;124m\"\u001b[39m:u\u001b[38;5;241m.\u001b[39mfat_g}\n\u001b[1;32m     13\u001b[0m     ramped    \u001b[38;5;241m=\u001b[39m ramp_targets(hist[\u001b[38;5;124m\"\u001b[39m\u001b[38;5;124mmacro_7d\u001b[39m\u001b[38;5;124m\"\u001b[39m], true_targ, pct\u001b[38;5;241m=\u001b[39m\u001b[38;5;241m0.15\u001b[39m)\n",
      "Cell \u001b[0;32mIn[5], line 6\u001b[0m, in \u001b[0;36mhistory_summary\u001b[0;34m(uid)\u001b[0m\n\u001b[1;32m      4\u001b[0m recent \u001b[38;5;241m=\u001b[39m logs_df[(logs_df\u001b[38;5;241m.\u001b[39muser_id\u001b[38;5;241m==\u001b[39muid) \u001b[38;5;241m&\u001b[39m (logs_df\u001b[38;5;241m.\u001b[39mtimestamp\u001b[38;5;241m>\u001b[39m\u001b[38;5;241m=\u001b[39mcutoff)]\n\u001b[1;32m      5\u001b[0m titles \u001b[38;5;241m=\u001b[39m recent\u001b[38;5;241m.\u001b[39mmeal_name\u001b[38;5;241m.\u001b[39mtolist() \u001b[38;5;129;01mor\u001b[39;00m [\u001b[38;5;124m\"\u001b[39m\u001b[38;5;124m\"\u001b[39m]\n\u001b[0;32m----> 6\u001b[0m vecs   \u001b[38;5;241m=\u001b[39m np\u001b[38;5;241m.\u001b[39mvstack([gemini_embed(t) \u001b[38;5;28;01mfor\u001b[39;00m t \u001b[38;5;129;01min\u001b[39;00m titles])\n\u001b[1;32m      7\u001b[0m flavor_vec \u001b[38;5;241m=\u001b[39m vecs\u001b[38;5;241m.\u001b[39mmean(axis\u001b[38;5;241m=\u001b[39m\u001b[38;5;241m0\u001b[39m)\n\u001b[1;32m      9\u001b[0m daily  \u001b[38;5;241m=\u001b[39m recent\u001b[38;5;241m.\u001b[39mgroupby(recent\u001b[38;5;241m.\u001b[39mtimestamp\u001b[38;5;241m.\u001b[39mdt\u001b[38;5;241m.\u001b[39mdate)[[\u001b[38;5;124m\"\u001b[39m\u001b[38;5;124mkcal\u001b[39m\u001b[38;5;124m\"\u001b[39m,\u001b[38;5;124m\"\u001b[39m\u001b[38;5;124mprotein_g\u001b[39m\u001b[38;5;124m\"\u001b[39m,\u001b[38;5;124m\"\u001b[39m\u001b[38;5;124mcarbs_g\u001b[39m\u001b[38;5;124m\"\u001b[39m,\u001b[38;5;124m\"\u001b[39m\u001b[38;5;124mfat_g\u001b[39m\u001b[38;5;124m\"\u001b[39m]]\u001b[38;5;241m.\u001b[39msum()\n",
      "Cell \u001b[0;32mIn[5], line 6\u001b[0m, in \u001b[0;36m<listcomp>\u001b[0;34m(.0)\u001b[0m\n\u001b[1;32m      4\u001b[0m recent \u001b[38;5;241m=\u001b[39m logs_df[(logs_df\u001b[38;5;241m.\u001b[39muser_id\u001b[38;5;241m==\u001b[39muid) \u001b[38;5;241m&\u001b[39m (logs_df\u001b[38;5;241m.\u001b[39mtimestamp\u001b[38;5;241m>\u001b[39m\u001b[38;5;241m=\u001b[39mcutoff)]\n\u001b[1;32m      5\u001b[0m titles \u001b[38;5;241m=\u001b[39m recent\u001b[38;5;241m.\u001b[39mmeal_name\u001b[38;5;241m.\u001b[39mtolist() \u001b[38;5;129;01mor\u001b[39;00m [\u001b[38;5;124m\"\u001b[39m\u001b[38;5;124m\"\u001b[39m]\n\u001b[0;32m----> 6\u001b[0m vecs   \u001b[38;5;241m=\u001b[39m np\u001b[38;5;241m.\u001b[39mvstack([\u001b[43mgemini_embed\u001b[49m\u001b[43m(\u001b[49m\u001b[43mt\u001b[49m\u001b[43m)\u001b[49m \u001b[38;5;28;01mfor\u001b[39;00m t \u001b[38;5;129;01min\u001b[39;00m titles])\n\u001b[1;32m      7\u001b[0m flavor_vec \u001b[38;5;241m=\u001b[39m vecs\u001b[38;5;241m.\u001b[39mmean(axis\u001b[38;5;241m=\u001b[39m\u001b[38;5;241m0\u001b[39m)\n\u001b[1;32m      9\u001b[0m daily  \u001b[38;5;241m=\u001b[39m recent\u001b[38;5;241m.\u001b[39mgroupby(recent\u001b[38;5;241m.\u001b[39mtimestamp\u001b[38;5;241m.\u001b[39mdt\u001b[38;5;241m.\u001b[39mdate)[[\u001b[38;5;124m\"\u001b[39m\u001b[38;5;124mkcal\u001b[39m\u001b[38;5;124m\"\u001b[39m,\u001b[38;5;124m\"\u001b[39m\u001b[38;5;124mprotein_g\u001b[39m\u001b[38;5;124m\"\u001b[39m,\u001b[38;5;124m\"\u001b[39m\u001b[38;5;124mcarbs_g\u001b[39m\u001b[38;5;124m\"\u001b[39m,\u001b[38;5;124m\"\u001b[39m\u001b[38;5;124mfat_g\u001b[39m\u001b[38;5;124m\"\u001b[39m]]\u001b[38;5;241m.\u001b[39msum()\n",
      "Cell \u001b[0;32mIn[16], line 15\u001b[0m, in \u001b[0;36mgemini_embed\u001b[0;34m(text)\u001b[0m\n\u001b[1;32m     11\u001b[0m \u001b[38;5;28;01mdef\u001b[39;00m\u001b[38;5;250m \u001b[39m\u001b[38;5;21mgemini_embed\u001b[39m(text: \u001b[38;5;28mstr\u001b[39m) \u001b[38;5;241m-\u001b[39m\u001b[38;5;241m>\u001b[39m np\u001b[38;5;241m.\u001b[39mndarray:\n\u001b[1;32m     12\u001b[0m \u001b[38;5;250m    \u001b[39m\u001b[38;5;124;03m\"\"\"\u001b[39;00m\n\u001b[1;32m     13\u001b[0m \u001b[38;5;124;03m    Return a 768‑d embedding vector from Gemini embedding‑exp‑03‑07.\u001b[39;00m\n\u001b[1;32m     14\u001b[0m \u001b[38;5;124;03m    \"\"\"\u001b[39;00m\n\u001b[0;32m---> 15\u001b[0m     res \u001b[38;5;241m=\u001b[39m \u001b[43mclient\u001b[49m\u001b[38;5;241;43m.\u001b[39;49m\u001b[43mmodels\u001b[49m\u001b[38;5;241;43m.\u001b[39;49m\u001b[43membed_content\u001b[49m\u001b[43m(\u001b[49m\u001b[43m \u001b[49m\u001b[38;5;66;43;03m#client.models.batch_embed_contents(...) (if you embed many meal titles)\u001b[39;49;00m\n\u001b[1;32m     16\u001b[0m \u001b[43m        \u001b[49m\u001b[43mmodel\u001b[49m\u001b[38;5;241;43m=\u001b[39;49m\u001b[43mEMBED_MODEL\u001b[49m\u001b[43m,\u001b[49m\n\u001b[1;32m     17\u001b[0m \u001b[43m        \u001b[49m\u001b[43mcontents\u001b[49m\u001b[38;5;241;43m=\u001b[39;49m\u001b[43mtext\u001b[49m\u001b[43m,\u001b[49m\n\u001b[1;32m     18\u001b[0m \u001b[43m        \u001b[49m\u001b[43mtask_type\u001b[49m\u001b[38;5;241;43m=\u001b[39;49m\u001b[38;5;124;43m\"\u001b[39;49m\u001b[38;5;124;43mSEMANTIC_SIMILARITY\u001b[39;49m\u001b[38;5;124;43m\"\u001b[39;49m\n\u001b[1;32m     19\u001b[0m \u001b[43m    \u001b[49m\u001b[43m)\u001b[49m\n\u001b[1;32m     20\u001b[0m     \u001b[38;5;28;01mreturn\u001b[39;00m np\u001b[38;5;241m.\u001b[39marray(res[\u001b[38;5;124m\"\u001b[39m\u001b[38;5;124membedding\u001b[39m\u001b[38;5;124m\"\u001b[39m][\u001b[38;5;124m\"\u001b[39m\u001b[38;5;124mvalues\u001b[39m\u001b[38;5;124m\"\u001b[39m], dtype\u001b[38;5;241m=\u001b[39mnp\u001b[38;5;241m.\u001b[39mfloat32)\n",
      "\u001b[0;31mTypeError\u001b[0m: Models.embed_content() got an unexpected keyword argument 'task_type'"
     ]
    }
   ],
   "source": [
    "K = 4\n",
    "alpha_taste = 0.5\n",
    "beta_macro  = 0.6\n",
    "THRESH = 0.70\n",
    "\n",
    "results = []\n",
    "\n",
    "for _, u in users_df.iterrows():\n",
    "    uid = u.user_id\n",
    "    hist = history_summary(uid)\n",
    "    true_targ = {\"optimal_calories\":u.optimal_calories,\"protein_g\":u.protein_g,\n",
    "                 \"carbs_g\":u.carbs_g,\"fat_g\":u.fat_g}\n",
    "    ramped    = ramp_targets(hist[\"macro_7d\"], true_targ, pct=0.15)\n",
    "\n",
    "    best_score, best_df = -1, None\n",
    "\n",
    "    print(f\"\\n====== User {uid} ======\")\n",
    "    for k in range(1, K+1):\n",
    "        plan = build_plan(u.to_dict(), ramped, hist,\n",
    "                          alpha_taste=alpha_taste,\n",
    "                          temperature=0.45+0.05*k)\n",
    "        df   = pd.DataFrame([{\n",
    "            \"meal_slot\": m[\"label\"], \"title\": m[\"name\"],\n",
    "            \"kcal\": m[\"macros\"][\"calories\"], \"protein_g\": m[\"macros\"][\"protein_g\"],\n",
    "            \"carbs_g\": m[\"macros\"][\"carbs_g\"], \"fat_g\": m[\"macros\"][\"fat_g\"]\n",
    "        } for m in plan[\"meals\"]])\n",
    "\n",
    "        score, macro, taste = day_scores(df, hist[\"flavor_vec\"],\n",
    "                                         ramped, beta_macro)\n",
    "\n",
    "        print(f\"R{k}  score {score:.3f} (macro {macro:.3f} · taste {taste:.3f})\")\n",
    "        if score > best_score:\n",
    "            best_score, best_df = score, df\n",
    "\n",
    "    results.append({\"user_id\":uid,\"day_score\":round(best_score,3)})\n",
    "    print(f\"🏆  Best for user {uid}: {best_score:.3f}\")\n",
    "    display(best_df[[\"meal_slot\",\"title\",\"kcal\",\"protein_g\"]])\n"
   ]
  },
  {
   "cell_type": "code",
   "execution_count": 10,
   "id": "3562e541",
   "metadata": {},
   "outputs": [
    {
     "name": "stdout",
     "output_type": "stream",
     "text": [
      "=== Day scores ===\n"
     ]
    },
    {
     "data": {
      "text/html": [
       "<div>\n",
       "<style scoped>\n",
       "    .dataframe tbody tr th:only-of-type {\n",
       "        vertical-align: middle;\n",
       "    }\n",
       "\n",
       "    .dataframe tbody tr th {\n",
       "        vertical-align: top;\n",
       "    }\n",
       "\n",
       "    .dataframe thead th {\n",
       "        text-align: right;\n",
       "    }\n",
       "</style>\n",
       "<table border=\"1\" class=\"dataframe\">\n",
       "  <thead>\n",
       "    <tr style=\"text-align: right;\">\n",
       "      <th></th>\n",
       "    </tr>\n",
       "  </thead>\n",
       "  <tbody>\n",
       "  </tbody>\n",
       "</table>\n",
       "</div>"
      ],
      "text/plain": [
       "Empty DataFrame\n",
       "Columns: []\n",
       "Index: []"
      ]
     },
     "metadata": {},
     "output_type": "display_data"
    }
   ],
   "source": [
    "summary_df = pd.DataFrame(results)\n",
    "print(\"=== Day scores ===\")\n",
    "display(summary_df)\n"
   ]
  },
  {
   "cell_type": "code",
   "execution_count": null,
   "id": "f2b9adfc",
   "metadata": {},
   "outputs": [],
   "source": []
  }
 ],
 "metadata": {
  "kernelspec": {
   "display_name": "hobbes",
   "language": "python",
   "name": "python3"
  },
  "language_info": {
   "codemirror_mode": {
    "name": "ipython",
    "version": 3
   },
   "file_extension": ".py",
   "mimetype": "text/x-python",
   "name": "python",
   "nbconvert_exporter": "python",
   "pygments_lexer": "ipython3",
   "version": "3.10.16"
  }
 },
 "nbformat": 4,
 "nbformat_minor": 5
}
