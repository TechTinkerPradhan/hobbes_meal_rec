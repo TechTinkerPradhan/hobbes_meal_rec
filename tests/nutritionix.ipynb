{
 "cells": [
  {
   "cell_type": "code",
   "execution_count": 5,
   "id": "6f926aef",
   "metadata": {},
   "outputs": [],
   "source": [
    "import os\n",
    "import requests\n",
    "from dotenv import load_dotenv\n",
    "import os\n"
   ]
  },
  {
   "cell_type": "code",
   "execution_count": 11,
   "id": "42445403",
   "metadata": {},
   "outputs": [
    {
     "name": "stdout",
     "output_type": "stream",
     "text": [
      "❌ Error 404: <!DOCTYPE html>\n",
      "<html lang=\"en\">\n",
      "<head>\n",
      "<meta charset=\"utf-8\">\n",
      "<title>Error</title>\n",
      "</head>\n",
      "<body>\n",
      "<pre>Cannot POST /v2/search/item</pre>\n",
      "</body>\n",
      "</html>\n",
      "\n"
     ]
    }
   ],
   "source": [
    "# Load environment\n",
    "load_dotenv(\"../.env\", override=True)\n",
    "\n",
    "APP_ID = os.getenv(\"NUTRITIONIX_APP_ID\")\n",
    "API_KEY = os.getenv(\"NUTRITIONIX_API_KEY\")\n",
    "\n",
    "headers = {\n",
    "    \"x-app-id\": APP_ID,\n",
    "    \"x-app-key\": API_KEY,\n",
    "    \"Content-Type\": \"application/json\"\n",
    "}\n",
    "\n",
    "def get_nutrition(meal_description):\n",
    "    url = \"https://trackapi.nutritionix.com/v2/search/item\"\n",
    "    data = {\n",
    "        \"query\": meal_description\n",
    "    }\n",
    "    \n",
    "    response = requests.post(url, headers=headers, json=data)\n",
    "    if response.status_code == 200:\n",
    "        return response.json()\n",
    "    else:\n",
    "        print(f\"❌ Error {response.status_code}: {response.text}\")\n",
    "        return None\n",
    "\n",
    "# 🧪 Quick test\n",
    "response_json=get_nutrition(\"Mediterranean Egg White Scramble\")\n"
   ]
  },
  {
   "cell_type": "code",
   "execution_count": 9,
   "id": "72972ba0",
   "metadata": {},
   "outputs": [
    {
     "name": "stdout",
     "output_type": "stream",
     "text": [
      "{'common': [{'serving_unit': 'large egg white', 'tag_id': '13305', 'food_name': 'egg white scrambled', 'common_type': None, 'serving_qty': 1, 'tag_name': 'scrambled egg white', 'photo': {'thumb': 'https://nix-tag-images.s3.amazonaws.com/13305_thumb.jpg'}, 'locale': 'en_US'}, {'serving_unit': 'large egg white', 'tag_id': '13305', 'food_name': 'egg whites scrambled', 'common_type': None, 'serving_qty': 1, 'tag_name': 'scrambled egg white', 'photo': {'thumb': 'https://nix-tag-images.s3.amazonaws.com/13305_thumb.jpg'}, 'locale': 'en_US'}, {'serving_unit': 'large', 'tag_id': '1738', 'food_name': 'egg scrambled', 'common_type': None, 'serving_qty': 1, 'tag_name': 'scrambled eggs', 'photo': {'thumb': 'https://nix-tag-images.s3.amazonaws.com/1738_thumb.jpg'}, 'locale': 'en_US'}, {'serving_unit': 'large', 'tag_id': '1738', 'food_name': 'eggs scrambled', 'common_type': None, 'serving_qty': 1, 'tag_name': 'scrambled eggs', 'photo': {'thumb': 'https://nix-tag-images.s3.amazonaws.com/1738_thumb.jpg'}, 'locale': 'en_US'}, {'serving_unit': 'large egg white', 'tag_id': '13305', 'food_name': 'scrambled egg white', 'common_type': None, 'serving_qty': 1, 'tag_name': 'scrambled egg white', 'photo': {'thumb': 'https://nix-tag-images.s3.amazonaws.com/13305_thumb.jpg'}, 'locale': 'en_US'}, {'serving_unit': 'large egg white', 'tag_id': '13305', 'food_name': 'scrambled egg whites', 'common_type': None, 'serving_qty': 1, 'tag_name': 'scrambled egg white', 'photo': {'thumb': 'https://nix-tag-images.s3.amazonaws.com/13305_thumb.jpg'}, 'locale': 'en_US'}, {'serving_unit': 'large egg with cheese', 'tag_id': '3100', 'food_name': 'scrambled eggs with cheese', 'common_type': None, 'serving_qty': 1, 'tag_name': 'scrambled eggs with cheese', 'photo': {'thumb': 'https://nix-tag-images.s3.amazonaws.com/3100_thumb.jpg'}, 'locale': 'en_US'}, {'serving_unit': 'eggs with veggies', 'tag_id': '6079', 'food_name': 'veggie scrambled eggs', 'common_type': None, 'serving_qty': 2, 'tag_name': 'vegetarian scramble', 'photo': {'thumb': 'https://d2eawub7utcl6.cloudfront.net/images/nix-apple-grey.png', 'highres': None, 'is_user_uploaded': False}, 'locale': 'en_US'}, {'serving_unit': 'sandwich', 'tag_id': '13000', 'food_name': 'scrambled egg sandwich', 'common_type': None, 'serving_qty': 1, 'tag_name': 'scrambled eggs sandwich', 'photo': {'thumb': 'https://d2eawub7utcl6.cloudfront.net/images/nix-apple-grey.png', 'highres': None, 'is_user_uploaded': False}, 'locale': 'en_US'}, {'serving_unit': 'cup', 'tag_id': '15062', 'food_name': 'turkish style scrambled eggs', 'common_type': None, 'serving_qty': 1, 'tag_name': 'menemen', 'photo': {'thumb': 'https://d2eawub7utcl6.cloudfront.net/images/nix-apple-grey.png', 'highres': None, 'is_user_uploaded': False}, 'locale': 'en_US'}, {'serving_unit': 'serving (2-egg portion)', 'tag_id': '7505', 'food_name': 'mexican scrambled eggs', 'common_type': None, 'serving_qty': 1, 'tag_name': 'huevos a la mexicana', 'photo': {'thumb': 'https://d2eawub7utcl6.cloudfront.net/images/nix-apple-grey.png', 'highres': None, 'is_user_uploaded': False}, 'locale': 'en_US'}, {'serving_unit': 'large', 'tag_id': '1738', 'food_name': 'scramble eggs', 'common_type': None, 'serving_qty': 1, 'tag_name': 'scrambled eggs', 'photo': {'thumb': 'https://nix-tag-images.s3.amazonaws.com/1738_thumb.jpg'}, 'locale': 'en_US'}, {'serving_unit': 'sandwich', 'tag_id': '13000', 'food_name': 'scrambled eggs sandwich', 'common_type': None, 'serving_qty': 1, 'tag_name': 'scrambled eggs sandwich', 'photo': {'thumb': 'https://d2eawub7utcl6.cloudfront.net/images/nix-apple-grey.png', 'highres': None, 'is_user_uploaded': False}, 'locale': 'en_US'}, {'serving_unit': 'large egg with cheese', 'tag_id': '3100', 'food_name': 'cheesy scrambled egg', 'common_type': None, 'serving_qty': 1, 'tag_name': 'scrambled eggs with cheese', 'photo': {'thumb': 'https://nix-tag-images.s3.amazonaws.com/3100_thumb.jpg'}, 'locale': 'en_US'}, {'serving_unit': 'Serving', 'tag_id': '14924', 'food_name': 'scrambled triple eggs', 'common_type': None, 'serving_qty': 1, 'tag_name': 'Scrambled Triple Eggs', 'photo': {'thumb': 'https://d2eawub7utcl6.cloudfront.net/images/nix-apple-grey.png', 'highres': None, 'is_user_uploaded': False}, 'locale': 'en_US'}, {'serving_unit': 'large', 'tag_id': '1738', 'food_name': 'scrambled eggs', 'common_type': None, 'serving_qty': 1, 'tag_name': 'scrambled eggs', 'photo': {'thumb': 'https://nix-tag-images.s3.amazonaws.com/1738_thumb.jpg'}, 'locale': 'en_US'}, {'serving_unit': 'large', 'tag_id': '1738', 'food_name': 'scrambled egg', 'common_type': None, 'serving_qty': 1, 'tag_name': 'scrambled eggs', 'photo': {'thumb': 'https://nix-tag-images.s3.amazonaws.com/1738_thumb.jpg'}, 'locale': 'en_US'}, {'serving_unit': 'cup', 'tag_id': '14747', 'food_name': 'colombian scrambled eggs', 'common_type': None, 'serving_qty': 1, 'tag_name': 'perico', 'photo': {'thumb': 'https://d2eawub7utcl6.cloudfront.net/images/nix-apple-grey.png', 'highres': None, 'is_user_uploaded': False}, 'locale': 'en_US'}, {'serving_unit': 'eggs with ham', 'tag_id': '9574', 'food_name': 'ham scrambled eggs', 'common_type': None, 'serving_qty': 2, 'tag_name': 'scrambled eggs with ham', 'photo': {'thumb': 'https://d2eawub7utcl6.cloudfront.net/images/nix-apple-grey.png', 'highres': None, 'is_user_uploaded': False}, 'locale': 'en_US'}, {'serving_unit': 'large egg with cheese', 'tag_id': '3100', 'food_name': 'cheesy scrambled eggs', 'common_type': None, 'serving_qty': 1, 'tag_name': 'scrambled eggs with cheese', 'photo': {'thumb': 'https://nix-tag-images.s3.amazonaws.com/3100_thumb.jpg'}, 'locale': 'en_US'}], 'branded': [{'region': 1, 'nix_item_id': '60365ba20c550c9d324d66a0', 'nix_brand_id': '590ad3bc981460a64f18c05e', 'brand_type': 2, 'photo': {'thumb': 'https://nutritionix-api.s3.amazonaws.com/60365ba2e3fb980008615464.jpeg'}, 'nf_calories': 180, 'brand_name_item_name': 'Whole & Simple Mediterranean Style Scrambled Egg White Bowl', 'serving_qty': 1, 'brand_name': 'Whole & Simple', 'serving_unit': 'bowl', 'food_name': 'Mediterranean Style Scrambled Egg White Bowl', 'locale': 'en_US'}, {'region': 1, 'nix_item_id': '600d7d4af78a78ee3a181544', 'nix_brand_id': '590ad3bc981460a64f18c05e', 'brand_type': 2, 'photo': {'thumb': 'https://nutritionix-api.s3.amazonaws.com/600d7d4e8865a34a2b1e3ccc.jpeg'}, 'nf_calories': 180, 'brand_name_item_name': 'Whole & Simple Scrambled Egg White Bowl, Mediterranean Style', 'serving_qty': 1, 'brand_name': 'Whole & Simple', 'serving_unit': 'bowl', 'food_name': 'Scrambled Egg White Bowl, Mediterranean Style', 'locale': 'en_US'}, {'region': 1, 'nix_item_id': '22386023c01841971eb8ad90', 'nix_brand_id': '223896107570ccd538670a20', 'brand_type': 1, 'photo': {'thumb': 'https://d2eawub7utcl6.cloudfront.net/images/nix-apple-grey.png', 'highres': None, 'is_user_uploaded': False}, 'nf_calories': 60, 'brand_name_item_name': 'IHOP (2) Scrambled Egg Whites', 'serving_qty': 1, 'brand_name': 'IHOP', 'serving_unit': 'Serving', 'food_name': '(2) Scrambled Egg Whites', 'locale': 'en_US'}, {'region': 1, 'nix_item_id': '22386820aa0bd5ce1236dd60', 'nix_brand_id': '513fbc1283aa2dc80c000679', 'brand_type': 1, 'photo': {'thumb': 'https://d2eawub7utcl6.cloudfront.net/images/nix-apple-grey.png', 'highres': None, 'is_user_uploaded': False}, 'nf_calories': 330, 'brand_name_item_name': \"Beef o Brady's Eggs, Scrambled with Liquid Egg Whites\", 'serving_qty': 1, 'brand_name': \"Beef o Brady's\", 'serving_unit': 'serving', 'food_name': 'Eggs, Scrambled with Liquid Egg Whites', 'locale': 'en_US'}, {'region': 1, 'nix_item_id': '223844171433c70cea57750f', 'nix_brand_id': '521b95474a56d006cae2a03b', 'brand_type': 1, 'photo': {'thumb': 'https://d2eawub7utcl6.cloudfront.net/images/nix-apple-grey.png', 'highres': None, 'is_user_uploaded': False}, 'nf_calories': 120, 'brand_name_item_name': 'Another Broken Egg Cafe Two Eggs any Style, Scrambled Egg Whites', 'serving_qty': 1, 'brand_name': 'Another Broken Egg Cafe', 'serving_unit': 'Serving', 'food_name': 'Two Eggs any Style, Scrambled Egg Whites', 'locale': 'en_US'}, {'region': 1, 'nix_item_id': '22381217b1e88be6270d5364', 'nix_brand_id': '513fbc1283aa2dc80c000727', 'brand_type': 1, 'photo': {'thumb': 'https://d2eawub7utcl6.cloudfront.net/images/nix-apple-grey.png', 'highres': None, 'is_user_uploaded': False}, 'nf_calories': 25, 'brand_name_item_name': 'Country Kitchen Egg Whites, Scrambled (1)', 'serving_qty': 1, 'brand_name': 'Country Kitchen', 'serving_unit': 'Serving', 'food_name': 'Egg Whites, Scrambled (1)', 'locale': 'en_US'}, {'region': 1, 'nix_item_id': 'd3ea843797d6343a834aff62', 'nix_brand_id': 'c64025014af4784da24f4b1e', 'brand_type': 1, 'photo': {'thumb': 'https://d2eawub7utcl6.cloudfront.net/images/nix-apple-grey.png', 'highres': None, 'is_user_uploaded': False}, 'nf_calories': 180, 'brand_name_item_name': 'Hilton Garden Inn Scrambled Egg Whites', 'serving_qty': 1, 'brand_name': 'Hilton Garden Inn', 'serving_unit': 'Serving', 'food_name': 'Scrambled Egg Whites', 'locale': 'en_US'}, {'region': 1, 'nix_item_id': '67712c582100570008fe7eb4', 'nix_brand_id': '51db37b9176fe9790a898bdd', 'brand_type': 2, 'photo': {'thumb': 'https://nutritionix-api.s3.amazonaws.com/67712c592100570008fe7eb5.jpeg'}, 'nf_calories': 220, 'brand_name_item_name': 'Kroger Turkey Sausage Egg White Scramble', 'serving_qty': 1, 'brand_name': 'Kroger', 'serving_unit': 'package', 'food_name': 'Turkey Sausage Egg White Scramble', 'locale': 'en_US'}, {'region': 1, 'nix_item_id': 'bd9d0016d8a4af2fa0969b42', 'nix_brand_id': '513fbc1283aa2dc80c000358', 'brand_type': 1, 'photo': {'thumb': 'https://d2eawub7utcl6.cloudfront.net/images/nix-apple-grey.png', 'highres': None, 'is_user_uploaded': False}, 'nf_calories': 280, 'brand_name_item_name': 'Claim Jumper Kids Eggs and Bacon with Egg, Scrambled Whites', 'serving_qty': 1, 'brand_name': 'Claim Jumper', 'serving_unit': 'Serving', 'food_name': 'Kids Eggs and Bacon with Egg, Scrambled Whites', 'locale': 'en_US'}, {'region': 1, 'nix_item_id': 'bd9d0416fa54089b9bc656f2', 'nix_brand_id': '513fbc1283aa2dc80c000b8e', 'brand_type': 1, 'photo': {'thumb': 'https://d2eawub7utcl6.cloudfront.net/images/nix-apple-grey.png', 'highres': None, 'is_user_uploaded': False}, 'nf_calories': 220, 'brand_name_item_name': 'White Spot Restaurants Side of Scrambled Eggs', 'serving_qty': 1, 'brand_name': 'White Spot Restaurants', 'serving_unit': 'Serving', 'food_name': 'Side of Scrambled Eggs', 'locale': 'en_US'}, {'region': 1, 'nix_item_id': '22384417e480ee4b1f40a1a4', 'nix_brand_id': '521b95474a56d006cae2a03b', 'brand_type': 1, 'photo': {'thumb': 'https://d2eawub7utcl6.cloudfront.net/images/nix-apple-grey.png', 'highres': None, 'is_user_uploaded': False}, 'nf_calories': 990, 'brand_name_item_name': 'Another Broken Egg Cafe Biscuit & Gravy, With Two Scrambled Egg Whites', 'serving_qty': 1, 'brand_name': 'Another Broken Egg Cafe', 'serving_unit': 'Serving', 'food_name': 'Biscuit & Gravy, With Two Scrambled Egg Whites', 'locale': 'en_US'}, {'region': 1, 'nix_item_id': 'bd9d0016740650d187b7f7c2', 'nix_brand_id': '513fbc1283aa2dc80c000358', 'brand_type': 1, 'photo': {'thumb': 'https://d2eawub7utcl6.cloudfront.net/images/nix-apple-grey.png', 'highres': None, 'is_user_uploaded': False}, 'nf_calories': 1000, 'brand_name_item_name': 'Claim Jumper Country Fried Steak and Eggs with Egg, Scrambled Whites', 'serving_qty': 1, 'brand_name': 'Claim Jumper', 'serving_unit': 'Serving', 'food_name': 'Country Fried Steak and Eggs with Egg, Scrambled Whites', 'locale': 'en_US'}, {'region': 1, 'nix_item_id': 'bd9d001650109df5fb6467db', 'nix_brand_id': '513fbc1283aa2dc80c000358', 'brand_type': 1, 'photo': {'thumb': 'https://d2eawub7utcl6.cloudfront.net/images/nix-apple-grey.png', 'highres': None, 'is_user_uploaded': False}, 'nf_calories': 420, 'brand_name_item_name': 'Claim Jumper American Breakfast with Egg, Scrambled Whites', 'serving_qty': 1, 'brand_name': 'Claim Jumper', 'serving_unit': 'Serving', 'food_name': 'American Breakfast with Egg, Scrambled Whites', 'locale': 'en_US'}, {'region': 1, 'nix_item_id': 'bd9d001607a2d264302c76b8', 'nix_brand_id': '513fbc1283aa2dc80c000358', 'brand_type': 1, 'photo': {'thumb': 'https://d2eawub7utcl6.cloudfront.net/images/nix-apple-grey.png', 'highres': None, 'is_user_uploaded': False}, 'nf_calories': 890, 'brand_name_item_name': 'Claim Jumper Full House with Egg, Scrambled Whites', 'serving_qty': 1, 'brand_name': 'Claim Jumper', 'serving_unit': 'Serving', 'food_name': 'Full House with Egg, Scrambled Whites', 'locale': 'en_US'}, {'region': 1, 'nix_item_id': 'e8b5281708f2dce8d65df9ef', 'nix_brand_id': '6658e8b62005a13cdcb989b0', 'brand_type': 1, 'photo': {'thumb': 'https://d2eawub7utcl6.cloudfront.net/images/nix-apple-grey.png', 'highres': None, 'is_user_uploaded': False}, 'nf_calories': 390, 'brand_name_item_name': 'Snooze An A.M. Eatery Protein & Veggie Egg White Scramble', 'serving_qty': 1, 'brand_name': 'Snooze An A.M. Eatery', 'serving_unit': 'Serving', 'food_name': 'Protein & Veggie Egg White Scramble', 'locale': 'en_US'}, {'region': 1, 'nix_item_id': '673f137c2ff1ca0008646546', 'nix_brand_id': '51db37b9176fe9790a898bdd', 'brand_type': 2, 'photo': {'thumb': 'https://nutritionix-api.s3.amazonaws.com/6800e0f343dc64000a28853c.jpeg'}, 'nf_calories': 220, 'brand_name_item_name': 'Kroger Turkey Sausage Egg White Scramble Breakfast Bowl', 'serving_qty': 1, 'brand_name': 'Kroger', 'serving_unit': 'package', 'food_name': 'Turkey Sausage Egg White Scramble Breakfast Bowl', 'locale': 'en_US'}, {'region': 1, 'nix_item_id': 'bd9d0016688d5e15b2a7b4ea', 'nix_brand_id': '513fbc1283aa2dc80c000358', 'brand_type': 1, 'photo': {'thumb': 'https://d2eawub7utcl6.cloudfront.net/images/nix-apple-grey.png', 'highres': None, 'is_user_uploaded': False}, 'nf_calories': 780, 'brand_name_item_name': 'Claim Jumper Three of a Kind with Egg, Scrambled Whites', 'serving_qty': 1, 'brand_name': 'Claim Jumper', 'serving_unit': 'Serving', 'food_name': 'Three of a Kind with Egg, Scrambled Whites', 'locale': 'en_US'}, {'region': 1, 'nix_item_id': '223844172f3eadc03e067b10', 'nix_brand_id': '521b95474a56d006cae2a03b', 'brand_type': 1, 'photo': {'thumb': 'https://d2eawub7utcl6.cloudfront.net/images/nix-apple-grey.png', 'highres': None, 'is_user_uploaded': False}, 'nf_calories': 120, 'brand_name_item_name': 'Another Broken Egg Cafe Traditional Day Starter, With Two Scrambled Whites', 'serving_qty': 1, 'brand_name': 'Another Broken Egg Cafe', 'serving_unit': 'Serving', 'food_name': 'Traditional Day Starter, With Two Scrambled Whites', 'locale': 'en_US'}, {'region': 1, 'nix_item_id': '223824172853710c710a3fa1', 'nix_brand_id': '513fbc1283aa2dc80c0004e6', 'brand_type': 1, 'photo': {'thumb': 'https://d2eawub7utcl6.cloudfront.net/images/nix-apple-grey.png', 'highres': None, 'is_user_uploaded': False}, 'nf_calories': 320, 'brand_name_item_name': 'Roly Poly Rolled Sandwiches Kids Veggie Scramble Egg Roly on White #103', 'serving_qty': 1, 'brand_name': 'Roly Poly Rolled Sandwiches', 'serving_unit': 'Serving', 'food_name': 'Kids Veggie Scramble Egg Roly on White #103', 'locale': 'en_US'}, {'region': 1, 'nix_item_id': '60195d306b4ba0d068081507', 'nix_brand_id': '567b5ce7f92c85f62c57f09b', 'brand_type': 2, 'photo': {'thumb': 'https://nutritionix-api.s3.amazonaws.com/60195d337bb43c87650c62a4.jpeg'}, 'nf_calories': 230, 'brand_name_item_name': 'Icon Meals Egg White Veggie Scrambler', 'serving_qty': 1, 'brand_name': 'Icon Meals', 'serving_unit': 'serving', 'food_name': 'Egg White Veggie Scrambler', 'locale': 'en_US'}]}\n"
     ]
    }
   ],
   "source": [
    "print(response_json)"
   ]
  },
  {
   "cell_type": "code",
   "execution_count": 3,
   "id": "db01660b",
   "metadata": {},
   "outputs": [],
   "source": [
    "import pandas as pd\n",
    "\n",
    "def process_nutritionix_response(response_json):\n",
    "    \"\"\"Format Nutritionix API response into a clean table.\"\"\"\n",
    "    if not response_json or 'foods' not in response_json:\n",
    "        print(\"❌ Invalid response\")\n",
    "        return None\n",
    "    \n",
    "    meals = []\n",
    "    for food in response_json['foods']:\n",
    "        meal_info = {\n",
    "            \"meal_component\": food.get('food_name', 'Unknown'),\n",
    "            \"serving_qty\": food.get('serving_qty', 0),\n",
    "            \"serving_unit\": food.get('serving_unit', ''),\n",
    "            \"serving_weight_grams\": food.get('serving_weight_grams', 0),\n",
    "            \"calories\": food.get('nf_calories', 0),\n",
    "            \"protein_g\": food.get('nf_protein', 0),\n",
    "            \"carbs_g\": food.get('nf_total_carbohydrate', 0),\n",
    "            \"fats_g\": food.get('nf_total_fat', 0),\n",
    "        }\n",
    "        meals.append(meal_info)\n",
    "    \n",
    "    return pd.DataFrame(meals)\n"
   ]
  },
  {
   "cell_type": "code",
   "execution_count": 4,
   "id": "1f437c28",
   "metadata": {},
   "outputs": [
    {
     "data": {
      "text/html": [
       "<div>\n",
       "<style scoped>\n",
       "    .dataframe tbody tr th:only-of-type {\n",
       "        vertical-align: middle;\n",
       "    }\n",
       "\n",
       "    .dataframe tbody tr th {\n",
       "        vertical-align: top;\n",
       "    }\n",
       "\n",
       "    .dataframe thead th {\n",
       "        text-align: right;\n",
       "    }\n",
       "</style>\n",
       "<table border=\"1\" class=\"dataframe\">\n",
       "  <thead>\n",
       "    <tr style=\"text-align: right;\">\n",
       "      <th></th>\n",
       "      <th>meal_component</th>\n",
       "      <th>serving_qty</th>\n",
       "      <th>serving_unit</th>\n",
       "      <th>serving_weight_grams</th>\n",
       "      <th>calories</th>\n",
       "      <th>protein_g</th>\n",
       "      <th>carbs_g</th>\n",
       "      <th>fats_g</th>\n",
       "    </tr>\n",
       "  </thead>\n",
       "  <tbody>\n",
       "    <tr>\n",
       "      <th>0</th>\n",
       "      <td>egg white</td>\n",
       "      <td>1</td>\n",
       "      <td>large</td>\n",
       "      <td>33</td>\n",
       "      <td>17.16</td>\n",
       "      <td>3.6</td>\n",
       "      <td>0.24</td>\n",
       "      <td>0.06</td>\n",
       "    </tr>\n",
       "  </tbody>\n",
       "</table>\n",
       "</div>"
      ],
      "text/plain": [
       "  meal_component  serving_qty serving_unit  serving_weight_grams  calories  \\\n",
       "0      egg white            1        large                    33     17.16   \n",
       "\n",
       "   protein_g  carbs_g  fats_g  \n",
       "0        3.6     0.24    0.06  "
      ]
     },
     "metadata": {},
     "output_type": "display_data"
    }
   ],
   "source": [
    "# Assume you already have:\n",
    "# response_json = get_nutrition(\"4 kofta kebab with roti and onion salad\")\n",
    "\n",
    "formatted_meals = process_nutritionix_response(response_json)\n",
    "display(formatted_meals)\n"
   ]
  },
  {
   "cell_type": "code",
   "execution_count": null,
   "id": "a8d300b6",
   "metadata": {},
   "outputs": [],
   "source": []
  }
 ],
 "metadata": {
  "kernelspec": {
   "display_name": "hobbes",
   "language": "python",
   "name": "python3"
  },
  "language_info": {
   "codemirror_mode": {
    "name": "ipython",
    "version": 3
   },
   "file_extension": ".py",
   "mimetype": "text/x-python",
   "name": "python",
   "nbconvert_exporter": "python",
   "pygments_lexer": "ipython3",
   "version": "3.10.16"
  }
 },
 "nbformat": 4,
 "nbformat_minor": 5
}
